{
 "cells": [
  {
   "cell_type": "markdown",
   "id": "d17349b3",
   "metadata": {},
   "source": [
    "# Python Statements "
   ]
  },
  {
   "cell_type": "markdown",
   "id": "e0229fc3",
   "metadata": {},
   "source": [
    "- Instructions that a python interpreter can execute is called statements"
   ]
  },
  {
   "cell_type": "code",
   "execution_count": 1,
   "id": "9f7b5d25",
   "metadata": {},
   "outputs": [],
   "source": [
    "a=1+5+5+7\n",
    "b=\"Ms dhoni\"\n",
    "c=1.78\n",
    "\n"
   ]
  },
  {
   "cell_type": "code",
   "execution_count": 2,
   "id": "12f3d163",
   "metadata": {},
   "outputs": [
    {
     "data": {
      "text/plain": [
       "18"
      ]
     },
     "execution_count": 2,
     "metadata": {},
     "output_type": "execute_result"
    }
   ],
   "source": [
    "a"
   ]
  },
  {
   "cell_type": "code",
   "execution_count": null,
   "id": "9e88da4f",
   "metadata": {},
   "outputs": [],
   "source": []
  },
  {
   "cell_type": "code",
   "execution_count": 3,
   "id": "361d1265",
   "metadata": {},
   "outputs": [],
   "source": [
    "a=1+2+3+\\\n",
    "  4+5+9+\\\n",
    "  9+10+11"
   ]
  },
  {
   "cell_type": "code",
   "execution_count": null,
   "id": "e94ec355",
   "metadata": {},
   "outputs": [],
   "source": []
  },
  {
   "cell_type": "code",
   "execution_count": 6,
   "id": "47ff4c9f",
   "metadata": {},
   "outputs": [
    {
     "data": {
      "text/plain": [
       "54"
      ]
     },
     "execution_count": 6,
     "metadata": {},
     "output_type": "execute_result"
    }
   ],
   "source": [
    "a=(1+2+3+\n",
    "  4+5+9+\n",
    "  9+10+11)\n",
    "a"
   ]
  },
  {
   "cell_type": "code",
   "execution_count": 8,
   "id": "4bce55ce",
   "metadata": {},
   "outputs": [],
   "source": [
    "a=10; b=20; c=30; d=40"
   ]
  },
  {
   "cell_type": "code",
   "execution_count": 9,
   "id": "b6324024",
   "metadata": {},
   "outputs": [
    {
     "data": {
      "text/plain": [
       "10"
      ]
     },
     "execution_count": 9,
     "metadata": {},
     "output_type": "execute_result"
    }
   ],
   "source": [
    "a"
   ]
  },
  {
   "cell_type": "code",
   "execution_count": 10,
   "id": "b88bb21d",
   "metadata": {},
   "outputs": [
    {
     "data": {
      "text/plain": [
       "20"
      ]
     },
     "execution_count": 10,
     "metadata": {},
     "output_type": "execute_result"
    }
   ],
   "source": [
    "b"
   ]
  },
  {
   "cell_type": "code",
   "execution_count": 11,
   "id": "bfb8ab45",
   "metadata": {},
   "outputs": [
    {
     "data": {
      "text/plain": [
       "30"
      ]
     },
     "execution_count": 11,
     "metadata": {},
     "output_type": "execute_result"
    }
   ],
   "source": [
    "c"
   ]
  },
  {
   "cell_type": "code",
   "execution_count": null,
   "id": "879b87f6",
   "metadata": {},
   "outputs": [],
   "source": []
  },
  {
   "cell_type": "markdown",
   "id": "bbe54f33",
   "metadata": {},
   "source": [
    "# Python indentation"
   ]
  },
  {
   "cell_type": "code",
   "execution_count": null,
   "id": "2a14e989",
   "metadata": {},
   "outputs": [],
   "source": [
    "{\n",
    "    {\n",
    "      {\n",
    "          \n",
    "      }  \n",
    "    }\n",
    "}"
   ]
  },
  {
   "cell_type": "code",
   "execution_count": null,
   "id": "4ee18c9d",
   "metadata": {},
   "outputs": [],
   "source": []
  },
  {
   "cell_type": "code",
   "execution_count": null,
   "id": "8141b354",
   "metadata": {},
   "outputs": [],
   "source": [
    "if True:\n"
   ]
  },
  {
   "cell_type": "code",
   "execution_count": null,
   "id": "d4faf86a",
   "metadata": {},
   "outputs": [],
   "source": [
    "if True:\n",
    "    a=10\n",
    "    b=10\n",
    "    c=10\n",
    "    if True:\n",
    "        a=10\n",
    "        b=20\n",
    "        c=30\n",
    "  "
   ]
  },
  {
   "cell_type": "code",
   "execution_count": null,
   "id": "f61a45b2",
   "metadata": {},
   "outputs": [],
   "source": [
    "Python comments:\n",
    "    1\n",
    "    2\n",
    "    3'\n",
    "    4\n",
    "\n",
    "Python Keywords:\n",
    "    1.\n",
    "    2.\n",
    "    3\n",
    "    4jdsskfjfd:\n",
    "        a\n",
    "        b\n",
    "        c"
   ]
  },
  {
   "cell_type": "code",
   "execution_count": null,
   "id": "9619051a",
   "metadata": {},
   "outputs": [],
   "source": []
  },
  {
   "cell_type": "code",
   "execution_count": null,
   "id": "ea55a507",
   "metadata": {},
   "outputs": [],
   "source": []
  },
  {
   "cell_type": "markdown",
   "id": "0becb690",
   "metadata": {},
   "source": [
    "# Python comments"
   ]
  },
  {
   "cell_type": "code",
   "execution_count": 12,
   "id": "cc18c779",
   "metadata": {},
   "outputs": [],
   "source": [
    "#this is comment\n",
    "#this is comment\n",
    "#this is comment\n",
    "#this is comment\n",
    "a=10"
   ]
  },
  {
   "cell_type": "code",
   "execution_count": null,
   "id": "2931647b",
   "metadata": {},
   "outputs": [],
   "source": [
    "# This is also an way of writing comment\n",
    "\n",
    "control + forward slash"
   ]
  },
  {
   "cell_type": "code",
   "execution_count": null,
   "id": "a25c226f",
   "metadata": {},
   "outputs": [],
   "source": [
    "\"\"\"\n",
    "This is an mult lines\n",
    "comment to desrcibe big\n",
    "details of code\n",
    "\n",
    "\"\"\"\n",
    "\n",
    "use three inverted commas(\"\"\" \"\"\")"
   ]
  },
  {
   "cell_type": "code",
   "execution_count": 14,
   "id": "274ebc26",
   "metadata": {},
   "outputs": [
    {
     "data": {
      "text/plain": [
       "'sfdhkldhf\\ndkfkfdnjm\\njsdfkljfj'"
      ]
     },
     "execution_count": 14,
     "metadata": {},
     "output_type": "execute_result"
    }
   ],
   "source": [
    "\"\"\"sfdhkldhf\n",
    "dkfkfdnjm\n",
    "jsdfkljfj\"\"\""
   ]
  },
  {
   "cell_type": "code",
   "execution_count": null,
   "id": "8c897411",
   "metadata": {},
   "outputs": [],
   "source": [
    "a=10\n",
    "b=1.5\n",
    "c=1+2j"
   ]
  },
  {
   "cell_type": "code",
   "execution_count": null,
   "id": "471e1c22",
   "metadata": {},
   "outputs": [],
   "source": []
  },
  {
   "cell_type": "markdown",
   "id": "1d5b0e4f",
   "metadata": {},
   "source": [
    "# DATA TYPES"
   ]
  },
  {
   "cell_type": "markdown",
   "id": "cce4adda",
   "metadata": {},
   "source": [
    "There are 14 types of data types:\n",
    "    "
   ]
  },
  {
   "cell_type": "markdown",
   "id": "9f22b59f",
   "metadata": {},
   "source": [
    "- Text Type - STRING\n",
    "- numerical type- int, float, complex\n",
    "- Sequence Type - LIST, TUPPLE, RANGE\n",
    "- mapping type - DICT\n",
    "- Set type - SET , FROZEN SET\n",
    "- Boolean typ- bool\n",
    "- Binary types - bytes , bytearray, memory view"
   ]
  },
  {
   "cell_type": "code",
   "execution_count": 15,
   "id": "274412ab",
   "metadata": {},
   "outputs": [],
   "source": [
    "a=10"
   ]
  },
  {
   "cell_type": "code",
   "execution_count": 17,
   "id": "ed50067e",
   "metadata": {},
   "outputs": [
    {
     "name": "stdout",
     "output_type": "stream",
     "text": [
      "10\n"
     ]
    }
   ],
   "source": [
    "print(a)"
   ]
  },
  {
   "cell_type": "code",
   "execution_count": 18,
   "id": "32502856",
   "metadata": {},
   "outputs": [
    {
     "name": "stdout",
     "output_type": "stream",
     "text": [
      "Help on built-in function print in module builtins:\n",
      "\n",
      "print(...)\n",
      "    print(value, ..., sep=' ', end='\\n', file=sys.stdout, flush=False)\n",
      "    \n",
      "    Prints the values to a stream, or to sys.stdout by default.\n",
      "    Optional keyword arguments:\n",
      "    file:  a file-like object (stream); defaults to the current sys.stdout.\n",
      "    sep:   string inserted between values, default a space.\n",
      "    end:   string appended after the last value, default a newline.\n",
      "    flush: whether to forcibly flush the stream.\n",
      "\n"
     ]
    }
   ],
   "source": [
    "help(print)"
   ]
  },
  {
   "cell_type": "code",
   "execution_count": null,
   "id": "c051790d",
   "metadata": {},
   "outputs": [],
   "source": []
  },
  {
   "cell_type": "code",
   "execution_count": null,
   "id": "a776cefd",
   "metadata": {},
   "outputs": [],
   "source": []
  },
  {
   "cell_type": "code",
   "execution_count": null,
   "id": "f9cad7c2",
   "metadata": {},
   "outputs": [],
   "source": []
  },
  {
   "cell_type": "code",
   "execution_count": 19,
   "id": "f361fe37",
   "metadata": {},
   "outputs": [
    {
     "name": "stdout",
     "output_type": "stream",
     "text": [
      "Help on built-in function len in module builtins:\n",
      "\n",
      "len(obj, /)\n",
      "    Return the number of items in a container.\n",
      "\n"
     ]
    }
   ],
   "source": [
    "help(len)"
   ]
  },
  {
   "cell_type": "code",
   "execution_count": 20,
   "id": "44bddbdd",
   "metadata": {},
   "outputs": [
    {
     "name": "stdout",
     "output_type": "stream",
     "text": [
      "Help on built-in function max in module builtins:\n",
      "\n",
      "max(...)\n",
      "    max(iterable, *[, default=obj, key=func]) -> value\n",
      "    max(arg1, arg2, *args, *[, key=func]) -> value\n",
      "    \n",
      "    With a single iterable argument, return its biggest item. The\n",
      "    default keyword-only argument specifies an object to return if\n",
      "    the provided iterable is empty.\n",
      "    With two or more arguments, return the largest argument.\n",
      "\n"
     ]
    }
   ],
   "source": [
    "help(max)"
   ]
  },
  {
   "cell_type": "code",
   "execution_count": 21,
   "id": "83baba55",
   "metadata": {},
   "outputs": [
    {
     "name": "stdout",
     "output_type": "stream",
     "text": [
      "10\n"
     ]
    }
   ],
   "source": [
    "a=10\n",
    "print(a)"
   ]
  },
  {
   "cell_type": "code",
   "execution_count": 22,
   "id": "4d286676",
   "metadata": {},
   "outputs": [
    {
     "name": "stdout",
     "output_type": "stream",
     "text": [
      "This is what i want to print\n"
     ]
    }
   ],
   "source": [
    "print(\"This is what i want to print\")"
   ]
  },
  {
   "cell_type": "code",
   "execution_count": 23,
   "id": "1bfdf1b7",
   "metadata": {},
   "outputs": [
    {
     "name": "stdout",
     "output_type": "stream",
     "text": [
      "7\n"
     ]
    }
   ],
   "source": [
    "print(7)"
   ]
  },
  {
   "cell_type": "code",
   "execution_count": null,
   "id": "dc49c111",
   "metadata": {},
   "outputs": [],
   "source": [
    "type()\n",
    "\n",
    "#  it tells teh data type of variable "
   ]
  },
  {
   "cell_type": "code",
   "execution_count": null,
   "id": "5c19d3ee",
   "metadata": {},
   "outputs": [],
   "source": []
  },
  {
   "cell_type": "code",
   "execution_count": 29,
   "id": "f599be4a",
   "metadata": {},
   "outputs": [
    {
     "data": {
      "text/plain": [
       "str"
      ]
     },
     "execution_count": 29,
     "metadata": {},
     "output_type": "execute_result"
    }
   ],
   "source": [
    "a=\"10+2j\"\n",
    "\n",
    "print(type(a))"
   ]
  },
  {
   "cell_type": "code",
   "execution_count": 33,
   "id": "da1d372e",
   "metadata": {},
   "outputs": [
    {
     "name": "stdout",
     "output_type": "stream",
     "text": [
      "10\n",
      "20\n"
     ]
    },
    {
     "data": {
      "text/plain": [
       "10"
      ]
     },
     "execution_count": 33,
     "metadata": {},
     "output_type": "execute_result"
    }
   ],
   "source": [
    "a=10\n",
    "print(a)\n",
    "b=20\n",
    "print(b)\n",
    "a"
   ]
  },
  {
   "cell_type": "code",
   "execution_count": 42,
   "id": "baac5871",
   "metadata": {},
   "outputs": [
    {
     "name": "stdout",
     "output_type": "stream",
     "text": [
      "10\n",
      "<class 'int'>\n"
     ]
    }
   ],
   "source": [
    "a=10\n",
    "print(a)\n",
    "print(type(a))"
   ]
  },
  {
   "cell_type": "code",
   "execution_count": 35,
   "id": "da0c5b3a",
   "metadata": {},
   "outputs": [
    {
     "name": "stdout",
     "output_type": "stream",
     "text": [
      "10.2\n",
      "<class 'float'>\n"
     ]
    }
   ],
   "source": [
    "a=10.2\n",
    "print(a)\n",
    "print(type(a))"
   ]
  },
  {
   "cell_type": "code",
   "execution_count": 40,
   "id": "a67efef3",
   "metadata": {},
   "outputs": [
    {
     "name": "stdout",
     "output_type": "stream",
     "text": [
      "(10+2j)\n",
      "<class 'complex'>\n"
     ]
    }
   ],
   "source": [
    "a=10+2j\n",
    "print(a)\n",
    "print(type(a))"
   ]
  },
  {
   "cell_type": "code",
   "execution_count": 55,
   "id": "69763c7b",
   "metadata": {},
   "outputs": [
    {
     "name": "stdout",
     "output_type": "stream",
     "text": [
      "MS\n",
      "<class 'str'>\n"
     ]
    }
   ],
   "source": [
    "a=\"MS\"\n",
    "print(a)\n",
    "print(type(a))"
   ]
  },
  {
   "cell_type": "code",
   "execution_count": null,
   "id": "773bab52",
   "metadata": {},
   "outputs": [],
   "source": []
  },
  {
   "cell_type": "code",
   "execution_count": 56,
   "id": "addbfb16",
   "metadata": {},
   "outputs": [
    {
     "name": "stdout",
     "output_type": "stream",
     "text": [
      "<class 'str'>\n"
     ]
    }
   ],
   "source": [
    "print(type(a))"
   ]
  },
  {
   "cell_type": "code",
   "execution_count": null,
   "id": "56d986da",
   "metadata": {},
   "outputs": [],
   "source": []
  },
  {
   "cell_type": "code",
   "execution_count": 57,
   "id": "3192c311",
   "metadata": {},
   "outputs": [
    {
     "ename": "NameError",
     "evalue": "name 'websi' is not defined",
     "output_type": "error",
     "traceback": [
      "\u001b[1;31m---------------------------------------------------------------------------\u001b[0m",
      "\u001b[1;31mNameError\u001b[0m                                 Traceback (most recent call last)",
      "Input \u001b[1;32mIn [57]\u001b[0m, in \u001b[0;36m<cell line: 1>\u001b[1;34m()\u001b[0m\n\u001b[1;32m----> 1\u001b[0m \u001b[43mwebsi\u001b[49m\n",
      "\u001b[1;31mNameError\u001b[0m: name 'websi' is not defined"
     ]
    }
   ],
   "source": [
    "websi"
   ]
  },
  {
   "cell_type": "code",
   "execution_count": null,
   "id": "d7621901",
   "metadata": {},
   "outputs": [],
   "source": [
    "z=20"
   ]
  },
  {
   "cell_type": "code",
   "execution_count": null,
   "id": "d2701c77",
   "metadata": {},
   "outputs": [],
   "source": []
  },
  {
   "cell_type": "code",
   "execution_count": 58,
   "id": "a8efdb45",
   "metadata": {},
   "outputs": [
    {
     "name": "stdout",
     "output_type": "stream",
     "text": [
      "20\n"
     ]
    }
   ],
   "source": [
    "print(z)"
   ]
  },
  {
   "cell_type": "code",
   "execution_count": 59,
   "id": "ed2d202a",
   "metadata": {},
   "outputs": [
    {
     "name": "stdout",
     "output_type": "stream",
     "text": [
      "20\n"
     ]
    }
   ],
   "source": [
    "y=20\n",
    "print(y)"
   ]
  },
  {
   "cell_type": "code",
   "execution_count": 61,
   "id": "72866170",
   "metadata": {},
   "outputs": [
    {
     "name": "stdout",
     "output_type": "stream",
     "text": [
      "10\n"
     ]
    }
   ],
   "source": [
    "u=10\n",
    "print(u)\n"
   ]
  },
  {
   "cell_type": "code",
   "execution_count": null,
   "id": "2e5518e5",
   "metadata": {},
   "outputs": [],
   "source": []
  },
  {
   "cell_type": "code",
   "execution_count": 62,
   "id": "96ebd1c3",
   "metadata": {},
   "outputs": [],
   "source": [
    "website=\"facebook.com\""
   ]
  },
  {
   "cell_type": "code",
   "execution_count": null,
   "id": "9726e0c5",
   "metadata": {},
   "outputs": [],
   "source": []
  },
  {
   "cell_type": "code",
   "execution_count": 63,
   "id": "bfb5cac2",
   "metadata": {},
   "outputs": [
    {
     "name": "stdout",
     "output_type": "stream",
     "text": [
      "facebook.com\n"
     ]
    }
   ],
   "source": [
    "print(website)"
   ]
  },
  {
   "cell_type": "code",
   "execution_count": 64,
   "id": "7298f0ec",
   "metadata": {},
   "outputs": [
    {
     "name": "stdout",
     "output_type": "stream",
     "text": [
      "<class 'str'>\n"
     ]
    }
   ],
   "source": [
    "print(type(website))"
   ]
  },
  {
   "cell_type": "code",
   "execution_count": 65,
   "id": "a847381e",
   "metadata": {},
   "outputs": [
    {
     "name": "stdout",
     "output_type": "stream",
     "text": [
      "<class 'str'>\n"
     ]
    }
   ],
   "source": [
    "number=\"12345\"\n",
    "print(type(number))"
   ]
  },
  {
   "cell_type": "code",
   "execution_count": 66,
   "id": "e8f7e5a0",
   "metadata": {},
   "outputs": [
    {
     "name": "stdout",
     "output_type": "stream",
     "text": [
      "<class 'str'>\n"
     ]
    }
   ],
   "source": [
    "number='1345678'\n",
    "print(type(number))"
   ]
  },
  {
   "cell_type": "code",
   "execution_count": null,
   "id": "feb3d53e",
   "metadata": {},
   "outputs": [],
   "source": []
  },
  {
   "cell_type": "markdown",
   "id": "a32fbab1",
   "metadata": {},
   "source": [
    "# print()"
   ]
  },
  {
   "cell_type": "code",
   "execution_count": null,
   "id": "40068340",
   "metadata": {},
   "outputs": [],
   "source": [
    "#  its function "
   ]
  },
  {
   "cell_type": "code",
   "execution_count": 67,
   "id": "20354a7e",
   "metadata": {},
   "outputs": [
    {
     "name": "stdout",
     "output_type": "stream",
     "text": [
      "ashish\n"
     ]
    }
   ],
   "source": [
    "print(\"ashish\")"
   ]
  },
  {
   "cell_type": "code",
   "execution_count": 68,
   "id": "d9084376",
   "metadata": {},
   "outputs": [
    {
     "name": "stdout",
     "output_type": "stream",
     "text": [
      "123\n"
     ]
    }
   ],
   "source": [
    "print(123)\n",
    "\n",
    "\n",
    "# shift plus tab"
   ]
  },
  {
   "cell_type": "code",
   "execution_count": null,
   "id": "0d8aa483",
   "metadata": {},
   "outputs": [],
   "source": [
    "# print(value, ..., sep=' ', end='\\n', file=sys.stdout, flush=False)"
   ]
  },
  {
   "cell_type": "code",
   "execution_count": null,
   "id": "6e8b7d71",
   "metadata": {},
   "outputs": [],
   "source": []
  },
  {
   "cell_type": "code",
   "execution_count": 69,
   "id": "ebd167c2",
   "metadata": {},
   "outputs": [],
   "source": [
    "a=\"MS\"\n",
    "b=\"Dhoni\""
   ]
  },
  {
   "cell_type": "code",
   "execution_count": 76,
   "id": "1153d04f",
   "metadata": {},
   "outputs": [
    {
     "name": "stdout",
     "output_type": "stream",
     "text": [
      "MS&&&&&Dhoni\n"
     ]
    }
   ],
   "source": [
    "print(a,b,sep='&&&&&')"
   ]
  },
  {
   "cell_type": "code",
   "execution_count": 75,
   "id": "fdc2df14",
   "metadata": {},
   "outputs": [
    {
     "name": "stdout",
     "output_type": "stream",
     "text": [
      "MS Dhoni\n"
     ]
    }
   ],
   "source": [
    "print(a,b)"
   ]
  },
  {
   "cell_type": "code",
   "execution_count": 80,
   "id": "d4695b61",
   "metadata": {},
   "outputs": [
    {
     "name": "stdout",
     "output_type": "stream",
     "text": [
      "MS Dhoni*MS Dhoni&&&MS Dhoni\n"
     ]
    }
   ],
   "source": [
    "print(a,b,end='*')\n",
    "print(a,b,end='&&&')\n",
    "print(a,b)"
   ]
  },
  {
   "cell_type": "code",
   "execution_count": null,
   "id": "791c0401",
   "metadata": {},
   "outputs": [],
   "source": []
  }
 ],
 "metadata": {
  "kernelspec": {
   "display_name": "Python 3 (ipykernel)",
   "language": "python",
   "name": "python3"
  },
  "language_info": {
   "codemirror_mode": {
    "name": "ipython",
    "version": 3
   },
   "file_extension": ".py",
   "mimetype": "text/x-python",
   "name": "python",
   "nbconvert_exporter": "python",
   "pygments_lexer": "ipython3",
   "version": "3.9.12"
  }
 },
 "nbformat": 4,
 "nbformat_minor": 5
}
